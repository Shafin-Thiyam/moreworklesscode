{
 "cells": [
  {
   "cell_type": "markdown",
   "metadata": {},
   "source": [
    "# Building foundation python Skills for data analytics"
   ]
  },
  {
   "cell_type": "markdown",
   "metadata": {},
   "source": [
    "### Part1"
   ]
  },
  {
   "cell_type": "markdown",
   "metadata": {},
   "source": [
    "**Formating option**\n",
    "1. %         \n",
    "2. .format() \n",
    "3. f''       "
   ]
  },
  {
   "cell_type": "code",
   "execution_count": null,
   "metadata": {
    "collapsed": true
   },
   "outputs": [],
   "source": [
    "x=10"
   ]
  },
  {
   "cell_type": "code",
   "execution_count": null,
   "metadata": {},
   "outputs": [],
   "source": [
    "print(\"%d\"% x)"
   ]
  },
  {
   "cell_type": "code",
   "execution_count": null,
   "metadata": {},
   "outputs": [],
   "source": [
    "print(\"{0}\".format(x))"
   ]
  },
  {
   "cell_type": "code",
   "execution_count": null,
   "metadata": {},
   "outputs": [],
   "source": [
    "print(f\"{x}\")\n",
    "print(f\"{x :08d}\") #it means 8 charcter wide leading 0 and its decimal\n",
    "print(f\"{x **2 :08d}\") # square of x"
   ]
  },
  {
   "cell_type": "code",
   "execution_count": null,
   "metadata": {},
   "outputs": [],
   "source": [
    "raise ValueError(f\"Expected {x!r} to a float not a {type(x).__name__}\")"
   ]
  },
  {
   "cell_type": "markdown",
   "metadata": {},
   "source": [
    "**Counter**"
   ]
  },
  {
   "cell_type": "code",
   "execution_count": null,
   "metadata": {
    "collapsed": true
   },
   "outputs": [],
   "source": [
    "from collections import Counter"
   ]
  },
  {
   "cell_type": "code",
   "execution_count": null,
   "metadata": {},
   "outputs": [],
   "source": [
    "d={}\n",
    "d['dragon']"
   ]
  },
  {
   "cell_type": "markdown",
   "metadata": {},
   "source": [
    "* *Counter works like a regular dictionary however if it looksup for missing key rather than raising key error its returns zero. *\n",
    "* *Counter is sub class of dictionary and has dictionary like behaviour*"
   ]
  },
  {
   "cell_type": "code",
   "execution_count": null,
   "metadata": {},
   "outputs": [],
   "source": [
    "d=Counter()\n",
    "d['dragon']"
   ]
  },
  {
   "cell_type": "code",
   "execution_count": null,
   "metadata": {},
   "outputs": [],
   "source": [
    "d['dragon']+=1\n",
    "d"
   ]
  },
  {
   "cell_type": "markdown",
   "metadata": {},
   "source": [
    "* *COunter has feature that if you pass list of objects its count them for you and give it in dictionary format*"
   ]
  },
  {
   "cell_type": "code",
   "execution_count": null,
   "metadata": {},
   "outputs": [],
   "source": [
    "Counter('red green red red blue blue green green blue yellow green yellow red yellow green'.split(' '))"
   ]
  },
  {
   "cell_type": "code",
   "execution_count": null,
   "metadata": {
    "collapsed": true
   },
   "outputs": [],
   "source": [
    "C=Counter('red green red red blue blue green green blue yellow green yellow red yellow green'.split(' '))"
   ]
  },
  {
   "cell_type": "code",
   "execution_count": null,
   "metadata": {},
   "outputs": [],
   "source": [
    "C.most_common(1) # It give the most common element in this case red which has 4 count"
   ]
  },
  {
   "cell_type": "code",
   "execution_count": null,
   "metadata": {},
   "outputs": [],
   "source": [
    "C.most_common(2) # It give the two most common element in this case red and green where both has count of 4"
   ]
  },
  {
   "cell_type": "markdown",
   "metadata": {},
   "source": [
    "** Why Counter? ** \n",
    "\n",
    "```\n",
    "Part of the design concept for counter is modeled on smalltalk bag\n",
    "and the notion of bag was you can put 50 marbels into a bag,\n",
    "red marbels and then put another 50 green marbles and\n",
    "another 10 yellow marbels then the bag let you take this out one\n",
    "at a time. So it worked like any other container except that its quite \n",
    "efficient in the way it stored instead of putting all the marbles \n",
    "seperately it listed them  in as just one time along with their count.\n",
    "```"
   ]
  },
  {
   "cell_type": "markdown",
   "metadata": {},
   "source": [
    "** Element ** "
   ]
  },
  {
   "cell_type": "markdown",
   "metadata": {},
   "source": [
    "```\n",
    "You can pull all the color from it instead of one at a time. \n",
    "Tool for doing that for us is 'element'.\n",
    "```"
   ]
  },
  {
   "cell_type": "code",
   "execution_count": null,
   "metadata": {},
   "outputs": [],
   "source": [
    "# it give the all the element with there repetition as list. and does'nt remember the order but does remember repition\n",
    "list(C.elements()) "
   ]
  },
  {
   "cell_type": "code",
   "execution_count": null,
   "metadata": {},
   "outputs": [],
   "source": [
    "list(C.elements())[0:5]  # gives first 4 elements"
   ]
  },
  {
   "cell_type": "code",
   "execution_count": null,
   "metadata": {},
   "outputs": [],
   "source": [
    "# With out use of element it will give the keys in list format \n",
    "# And also as per dictionary by default it gives keys.\n",
    "list(C) # same as list(C.keys())"
   ]
  },
  {
   "cell_type": "code",
   "execution_count": null,
   "metadata": {},
   "outputs": [],
   "source": [
    "# we can get values same as accessing dictionary in list format.\n",
    "list(C.values())"
   ]
  },
  {
   "cell_type": "code",
   "execution_count": null,
   "metadata": {},
   "outputs": [],
   "source": [
    "list(C.keys()) # Same as list(C) "
   ]
  },
  {
   "cell_type": "code",
   "execution_count": null,
   "metadata": {},
   "outputs": [],
   "source": [
    "list(C.items()) # It gives the key value pairs in list format."
   ]
  },
  {
   "cell_type": "markdown",
   "metadata": {},
   "source": [
    "###### Statistics Modules"
   ]
  },
  {
   "cell_type": "markdown",
   "metadata": {},
   "source": [
    "It contains \n",
    "1. Descriptive statistics:\n",
    "    - Mean.\n",
    "    - Median.\n",
    "    - Mode.\n",
    "    - Standard deviation.\n",
    "    - Population standard deviation."
   ]
  },
  {
   "cell_type": "code",
   "execution_count": null,
   "metadata": {
    "collapsed": true
   },
   "outputs": [],
   "source": [
    "from statistics import mean, median, mode, stdev, pstdev"
   ]
  },
  {
   "cell_type": "markdown",
   "metadata": {},
   "source": [
    "**Mean is the usual averages** "
   ]
  },
  {
   "cell_type": "code",
   "execution_count": null,
   "metadata": {},
   "outputs": [],
   "source": [
    "mean([23,42,50,53]) # 168/4=42"
   ]
  },
  {
   "cell_type": "markdown",
   "metadata": {},
   "source": [
    "**Median gives the center most values**"
   ]
  },
  {
   "cell_type": "code",
   "execution_count": null,
   "metadata": {},
   "outputs": [],
   "source": [
    "median([53,50,42,23,54,55]) # For median number should be ascending order which python take care of. "
   ]
  },
  {
   "cell_type": "markdown",
   "metadata": {},
   "source": [
    "**Mode is when one value occurr more than the other it becomes the mode**"
   ]
  },
  {
   "cell_type": "code",
   "execution_count": null,
   "metadata": {},
   "outputs": [],
   "source": [
    "mode([53,50,42,23,54,55]) # mode function will throw error if all are unique with no repetition we need to catch the error."
   ]
  },
  {
   "cell_type": "code",
   "execution_count": null,
   "metadata": {},
   "outputs": [],
   "source": [
    "md=[53,50,42,23,54,55]\n",
    "if len(set(md)) != len(md): # check different lengths, if different we have dups since set only keep unique values\n",
    "    Most = mode(md)\n",
    "    print (\"The mode is \", Most)\n",
    "else:      # else both are the  same size so no dups, just print\n",
    "    print(\"No duplicates in nums\")"
   ]
  },
  {
   "cell_type": "code",
   "execution_count": null,
   "metadata": {},
   "outputs": [],
   "source": [
    "mode([53,50,42,42,23,54,55])"
   ]
  },
  {
   "cell_type": "markdown",
   "metadata": {},
   "source": [
    "1. **Population Standard deviation: It is a measure of how spread out numbers are.**\n",
    "2. **It is the square root of the Variance.**\n",
    "3. **Variance is average of the squared differences from the Mean.**\n",
    "\n",
    "**Calculating Mean** \n",
    "\n",
    "```\n",
    "Eg:\n",
    "    mean([23,42,50,53]) = 168/4 = 42 is the mean.\n",
    "    Now we calculate Variance which is the average of square of each number's difference from the Mean:\n",
    "    Step 1 [-19,0,8,11] \n",
    "    Step 2 [361,0,64,121]\n",
    "    Step 3 [361,0,64,121]/4=546/4=136.5 is the variance\n",
    "    Now we calculate Standard diaviation which is just the square root of Variance: \n",
    "    √136.5= 11.683 is the population std diviation.\n",
    "```"
   ]
  },
  {
   "cell_type": "code",
   "execution_count": null,
   "metadata": {},
   "outputs": [],
   "source": [
    "pstdev([34,12,43,32])"
   ]
  },
  {
   "cell_type": "markdown",
   "metadata": {},
   "source": [
    "**stdev or sample standard diviation take only few from the list and calculated the standard diviation**\n",
    "\n",
    "```\n",
    "Essential idea here is to find out information about the population we do not need to look at all members of the population.\n",
    "But we lose some accuracy.\n",
    "Eg:\n",
    "    mean([23,42,50]) = 115/3 = 38.33 is the mean.\n",
    "    Now we calculate Variance which is the average of square of each number's difference from the Mean:\n",
    "    Step 1 [-15.33,3.67,11.67] \n",
    "    Step 2 [235,13.47,136.19] \n",
    "    Step 3 [235,13.47,136.19] /2=384.67/2=192.33 is the variance\n",
    "    Now we calculate Standard diaviation which is just the square root of Variance: \n",
    "    √136.5= 13.8 is the population std diviation.\n",
    "```"
   ]
  },
  {
   "cell_type": "code",
   "execution_count": null,
   "metadata": {},
   "outputs": [],
   "source": [
    "stdev([34,12,43])"
   ]
  },
  {
   "cell_type": "markdown",
   "metadata": {},
   "source": [
    "**List Concatenation**"
   ]
  },
  {
   "cell_type": "code",
   "execution_count": 1,
   "metadata": {
    "collapsed": true
   },
   "outputs": [],
   "source": [
    "s=[1,3,433,4]\n",
    "w=[23,323,23,23]\n",
    "sw=s+w"
   ]
  },
  {
   "cell_type": "code",
   "execution_count": 2,
   "metadata": {},
   "outputs": [
    {
     "data": {
      "text/plain": [
       "[1, 3, 433, 4, 23, 323, 23, 23]"
      ]
     },
     "execution_count": 2,
     "metadata": {},
     "output_type": "execute_result"
    }
   ],
   "source": [
    "sw"
   ]
  },
  {
   "cell_type": "markdown",
   "metadata": {},
   "source": [
    "```Same s+w will yield different result in numpy\n",
    "where index 1 of s will be added to index 1 of w```"
   ]
  },
  {
   "cell_type": "markdown",
   "metadata": {},
   "source": [
    "**Sorting**\n",
    "1. sort: will sort the list and save it in same list.\n",
    "2. sorted will sort the list and can be saved in new list."
   ]
  },
  {
   "cell_type": "code",
   "execution_count": 3,
   "metadata": {
    "collapsed": true
   },
   "outputs": [],
   "source": [
    "lists=[32,13,344,23,542,434,345]\n",
    "lists.sort()"
   ]
  },
  {
   "cell_type": "code",
   "execution_count": 5,
   "metadata": {},
   "outputs": [
    {
     "data": {
      "text/plain": [
       "[13, 23, 32, 344, 345, 434, 542]"
      ]
     },
     "execution_count": 5,
     "metadata": {},
     "output_type": "execute_result"
    }
   ],
   "source": [
    "lists # sort will overwrite lists and save it in it."
   ]
  },
  {
   "cell_type": "code",
   "execution_count": 8,
   "metadata": {},
   "outputs": [
    {
     "data": {
      "text/plain": [
       "[13, 23, 32, 344, 345, 434, 542]"
      ]
     },
     "execution_count": 8,
     "metadata": {},
     "output_type": "execute_result"
    }
   ],
   "source": [
    "lists2=[32,13,344,23,542,434,345]\n",
    "sorted(lists2)"
   ]
  },
  {
   "cell_type": "code",
   "execution_count": 9,
   "metadata": {},
   "outputs": [
    {
     "data": {
      "text/plain": [
       "[32, 13, 344, 23, 542, 434, 345]"
      ]
     },
     "execution_count": 9,
     "metadata": {},
     "output_type": "execute_result"
    }
   ],
   "source": [
    "lists2"
   ]
  },
  {
   "cell_type": "code",
   "execution_count": 10,
   "metadata": {},
   "outputs": [
    {
     "data": {
      "text/plain": [
       "[13, 23, 32, 344, 345, 434, 542]"
      ]
     },
     "execution_count": 10,
     "metadata": {},
     "output_type": "execute_result"
    }
   ],
   "source": [
    "list3=sorted(lists2)\n",
    "list3"
   ]
  },
  {
   "cell_type": "markdown",
   "metadata": {},
   "source": [
    "```Note: Sorted works on any immutable object like string```"
   ]
  },
  {
   "cell_type": "code",
   "execution_count": 18,
   "metadata": {},
   "outputs": [
    {
     "data": {
      "text/plain": [
       "['S', 'a', 'f', 'h', 'i', 'n']"
      ]
     },
     "execution_count": 18,
     "metadata": {},
     "output_type": "execute_result"
    }
   ],
   "source": [
    "string_sort=sorted('Shafin')\n",
    "string_sort"
   ]
  },
  {
   "cell_type": "markdown",
   "metadata": {},
   "source": [
    "### Contd.... Day2"
   ]
  }
 ],
 "metadata": {
  "kernelspec": {
   "display_name": "Python 3",
   "language": "python",
   "name": "python3"
  },
  "language_info": {
   "codemirror_mode": {
    "name": "ipython",
    "version": 3
   },
   "file_extension": ".py",
   "mimetype": "text/x-python",
   "name": "python",
   "nbconvert_exporter": "python",
   "pygments_lexer": "ipython3",
   "version": "3.6.1"
  }
 },
 "nbformat": 4,
 "nbformat_minor": 2
}
